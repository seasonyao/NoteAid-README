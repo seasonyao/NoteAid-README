{
  "cells": [
    {
      "cell_type": "code",
      "execution_count": 2,
      "metadata": {
        "colab": {
          "base_uri": "https://localhost:8080/"
        },
        "id": "AIei08-GeU0I",
        "outputId": "1eb04c0d-1fdd-4581-f836-1e2aac3afd74"
      },
      "outputs": [],
      "source": [
        "\n",
        "import openai\n",
        "import pandas as pd"
      ]
    },
    {
      "cell_type": "code",
      "execution_count": 3,
      "metadata": {
        "id": "wWmjhh1yyD9L"
      },
      "outputs": [],
      "source": [
        "OPENAI_API_KEY=\"\"\n"
      ]
    },
    {
      "cell_type": "code",
      "execution_count": 5,
      "metadata": {
        "id": "mL2RD_Xy0Tk6"
      },
      "outputs": [],
      "source": [
        "openai.api_key = OPENAI_API_KEY\n",
        "from openai import OpenAI\n",
        "client = OpenAI(\n",
        "    # This is the default and can be omitted\n",
        "    api_key=OPENAI_API_KEY,\n",
        ")"
      ]
    },
    {
      "cell_type": "code",
      "execution_count": 6,
      "metadata": {
        "id": "RwkJlZoRecld"
      },
      "outputs": [],
      "source": [
        "#this is the path for the readme_exp data\n",
        "df_v1_PATH = \"final_data.csv\"\n",
        "# df_v3_PATH = \"df_v3_withcontext_remove_dup.csv\"\n",
        "\n",
        "df_v1_full = pd.read_csv(df_v1_PATH)\n",
        "# df_v3 = pd.read_csv(df_v3_PATH)"
      ]
    },
    {
      "cell_type": "code",
      "execution_count": 7,
      "metadata": {
        "colab": {
          "base_uri": "https://localhost:8080/",
          "height": 224
        },
        "id": "MiRL4lYbecim",
        "outputId": "a875441c-915a-4be8-8460-0c605bf01a66"
      },
      "outputs": [
        {
          "name": "stdout",
          "output_type": "stream",
          "text": [
            "308242\n"
          ]
        },
        {
          "data": {
            "text/html": [
              "<div>\n",
              "<style scoped>\n",
              "    .dataframe tbody tr th:only-of-type {\n",
              "        vertical-align: middle;\n",
              "    }\n",
              "\n",
              "    .dataframe tbody tr th {\n",
              "        vertical-align: top;\n",
              "    }\n",
              "\n",
              "    .dataframe thead th {\n",
              "        text-align: right;\n",
              "    }\n",
              "</style>\n",
              "<table border=\"1\" class=\"dataframe\">\n",
              "  <thead>\n",
              "    <tr style=\"text-align: right;\">\n",
              "      <th></th>\n",
              "      <th>Unnamed: 0.1</th>\n",
              "      <th>index</th>\n",
              "      <th>Unnamed: 0</th>\n",
              "      <th>id</th>\n",
              "      <th>text_to_annotate</th>\n",
              "      <th>start</th>\n",
              "      <th>end</th>\n",
              "      <th>ann_text</th>\n",
              "      <th>definition</th>\n",
              "      <th>split_print</th>\n",
              "      <th>UMLS+others</th>\n",
              "    </tr>\n",
              "  </thead>\n",
              "  <tbody>\n",
              "    <tr>\n",
              "      <th>0</th>\n",
              "      <td>0</td>\n",
              "      <td>0</td>\n",
              "      <td>0</td>\n",
              "      <td>98791999</td>\n",
              "      <td>Virt - Vite 2.5 - 25 - 1 MG Oral Tablet Vitami...</td>\n",
              "      <td>0.0</td>\n",
              "      <td>3.0</td>\n",
              "      <td>Virt - Vite</td>\n",
              "      <td>A mix of vitamins. It provides vitamin B-6, vi...</td>\n",
              "      <td>['Virt', ' - ', 'The determination of the amou...</td>\n",
              "      <td>['Virt', ' - ', 'Vite']</td>\n",
              "    </tr>\n",
              "    <tr>\n",
              "      <th>1</th>\n",
              "      <td>1</td>\n",
              "      <td>2</td>\n",
              "      <td>2</td>\n",
              "      <td>98791999</td>\n",
              "      <td>Virt - Vite 2.5 - 25 - 1 MG Oral Tablet Vitami...</td>\n",
              "      <td>8.0</td>\n",
              "      <td>9.0</td>\n",
              "      <td>MG</td>\n",
              "      <td>A tiny amount of something, usually a drug.</td>\n",
              "      <td>['A measure of weight. A milligram is approxim...</td>\n",
              "      <td>['MG', ' ']</td>\n",
              "    </tr>\n",
              "    <tr>\n",
              "      <th>2</th>\n",
              "      <td>2</td>\n",
              "      <td>3</td>\n",
              "      <td>3</td>\n",
              "      <td>98791999</td>\n",
              "      <td>Virt - Vite 2.5 - 25 - 1 MG Oral Tablet Vitami...</td>\n",
              "      <td>9.0</td>\n",
              "      <td>10.0</td>\n",
              "      <td>Oral</td>\n",
              "      <td>Taken by mouth.</td>\n",
              "      <td>['A substance intended for administration thro...</td>\n",
              "      <td>['Oral']</td>\n",
              "    </tr>\n",
              "    <tr>\n",
              "      <th>3</th>\n",
              "      <td>3</td>\n",
              "      <td>4</td>\n",
              "      <td>4</td>\n",
              "      <td>98791999</td>\n",
              "      <td>Virt - Vite 2.5 - 25 - 1 MG Oral Tablet Vitami...</td>\n",
              "      <td>10.0</td>\n",
              "      <td>11.0</td>\n",
              "      <td>Tablet</td>\n",
              "      <td>A pill.</td>\n",
              "      <td>['A tablet intended for oral administration.']</td>\n",
              "      <td>['Tablet']</td>\n",
              "    </tr>\n",
              "    <tr>\n",
              "      <th>4</th>\n",
              "      <td>4</td>\n",
              "      <td>5</td>\n",
              "      <td>5</td>\n",
              "      <td>98791999</td>\n",
              "      <td>Virt - Vite 2.5 - 25 - 1 MG Oral Tablet Vitami...</td>\n",
              "      <td>11.0</td>\n",
              "      <td>14.0</td>\n",
              "      <td>Vitamin B complex</td>\n",
              "      <td>A group of vitamins and nutrients.  The body n...</td>\n",
              "      <td>['A group of water-soluble vitamins, some of w...</td>\n",
              "      <td>['Vitamin B complex']</td>\n",
              "    </tr>\n",
              "  </tbody>\n",
              "</table>\n",
              "</div>"
            ],
            "text/plain": [
              "   Unnamed: 0.1  index  Unnamed: 0        id  \\\n",
              "0             0      0           0  98791999   \n",
              "1             1      2           2  98791999   \n",
              "2             2      3           3  98791999   \n",
              "3             3      4           4  98791999   \n",
              "4             4      5           5  98791999   \n",
              "\n",
              "                                    text_to_annotate  start   end  \\\n",
              "0  Virt - Vite 2.5 - 25 - 1 MG Oral Tablet Vitami...    0.0   3.0   \n",
              "1  Virt - Vite 2.5 - 25 - 1 MG Oral Tablet Vitami...    8.0   9.0   \n",
              "2  Virt - Vite 2.5 - 25 - 1 MG Oral Tablet Vitami...    9.0  10.0   \n",
              "3  Virt - Vite 2.5 - 25 - 1 MG Oral Tablet Vitami...   10.0  11.0   \n",
              "4  Virt - Vite 2.5 - 25 - 1 MG Oral Tablet Vitami...   11.0  14.0   \n",
              "\n",
              "            ann_text                                         definition  \\\n",
              "0        Virt - Vite  A mix of vitamins. It provides vitamin B-6, vi...   \n",
              "1                MG         A tiny amount of something, usually a drug.   \n",
              "2               Oral                                    Taken by mouth.   \n",
              "3             Tablet                                            A pill.   \n",
              "4  Vitamin B complex  A group of vitamins and nutrients.  The body n...   \n",
              "\n",
              "                                         split_print              UMLS+others  \n",
              "0  ['Virt', ' - ', 'The determination of the amou...  ['Virt', ' - ', 'Vite']  \n",
              "1  ['A measure of weight. A milligram is approxim...              ['MG', ' ']  \n",
              "2  ['A substance intended for administration thro...                 ['Oral']  \n",
              "3     ['A tablet intended for oral administration.']               ['Tablet']  \n",
              "4  ['A group of water-soluble vitamins, some of w...    ['Vitamin B complex']  "
            ]
          },
          "execution_count": 7,
          "metadata": {},
          "output_type": "execute_result"
        }
      ],
      "source": [
        "print(len(df_v1_full))\n",
        "df_v1_full.head()"
      ]
    },
    {
      "cell_type": "code",
      "execution_count": 8,
      "metadata": {
        "id": "80m5O9Xnecf7"
      },
      "outputs": [],
      "source": [
        "\n",
        "df_v1 = df_v1_full.drop(columns=['Unnamed: 0.1', 'index', 'Unnamed: 0', 'id'])\n"
      ]
    },
    {
      "cell_type": "code",
      "execution_count": 9,
      "metadata": {
        "colab": {
          "base_uri": "https://localhost:8080/",
          "height": 206
        },
        "id": "ZXShi1Ijecdd",
        "outputId": "3ef7dc75-c5c2-493a-fb89-6b6fb3139a8f"
      },
      "outputs": [
        {
          "data": {
            "text/html": [
              "<div>\n",
              "<style scoped>\n",
              "    .dataframe tbody tr th:only-of-type {\n",
              "        vertical-align: middle;\n",
              "    }\n",
              "\n",
              "    .dataframe tbody tr th {\n",
              "        vertical-align: top;\n",
              "    }\n",
              "\n",
              "    .dataframe thead th {\n",
              "        text-align: right;\n",
              "    }\n",
              "</style>\n",
              "<table border=\"1\" class=\"dataframe\">\n",
              "  <thead>\n",
              "    <tr style=\"text-align: right;\">\n",
              "      <th></th>\n",
              "      <th>text_to_annotate</th>\n",
              "      <th>start</th>\n",
              "      <th>end</th>\n",
              "      <th>ann_text</th>\n",
              "      <th>definition</th>\n",
              "      <th>split_print</th>\n",
              "      <th>UMLS+others</th>\n",
              "    </tr>\n",
              "  </thead>\n",
              "  <tbody>\n",
              "    <tr>\n",
              "      <th>0</th>\n",
              "      <td>Virt - Vite 2.5 - 25 - 1 MG Oral Tablet Vitami...</td>\n",
              "      <td>0.0</td>\n",
              "      <td>3.0</td>\n",
              "      <td>Virt - Vite</td>\n",
              "      <td>A mix of vitamins. It provides vitamin B-6, vi...</td>\n",
              "      <td>['Virt', ' - ', 'The determination of the amou...</td>\n",
              "      <td>['Virt', ' - ', 'Vite']</td>\n",
              "    </tr>\n",
              "    <tr>\n",
              "      <th>1</th>\n",
              "      <td>Virt - Vite 2.5 - 25 - 1 MG Oral Tablet Vitami...</td>\n",
              "      <td>8.0</td>\n",
              "      <td>9.0</td>\n",
              "      <td>MG</td>\n",
              "      <td>A tiny amount of something, usually a drug.</td>\n",
              "      <td>['A measure of weight. A milligram is approxim...</td>\n",
              "      <td>['MG', ' ']</td>\n",
              "    </tr>\n",
              "    <tr>\n",
              "      <th>2</th>\n",
              "      <td>Virt - Vite 2.5 - 25 - 1 MG Oral Tablet Vitami...</td>\n",
              "      <td>9.0</td>\n",
              "      <td>10.0</td>\n",
              "      <td>Oral</td>\n",
              "      <td>Taken by mouth.</td>\n",
              "      <td>['A substance intended for administration thro...</td>\n",
              "      <td>['Oral']</td>\n",
              "    </tr>\n",
              "    <tr>\n",
              "      <th>3</th>\n",
              "      <td>Virt - Vite 2.5 - 25 - 1 MG Oral Tablet Vitami...</td>\n",
              "      <td>10.0</td>\n",
              "      <td>11.0</td>\n",
              "      <td>Tablet</td>\n",
              "      <td>A pill.</td>\n",
              "      <td>['A tablet intended for oral administration.']</td>\n",
              "      <td>['Tablet']</td>\n",
              "    </tr>\n",
              "    <tr>\n",
              "      <th>4</th>\n",
              "      <td>Virt - Vite 2.5 - 25 - 1 MG Oral Tablet Vitami...</td>\n",
              "      <td>11.0</td>\n",
              "      <td>14.0</td>\n",
              "      <td>Vitamin B complex</td>\n",
              "      <td>A group of vitamins and nutrients.  The body n...</td>\n",
              "      <td>['A group of water-soluble vitamins, some of w...</td>\n",
              "      <td>['Vitamin B complex']</td>\n",
              "    </tr>\n",
              "  </tbody>\n",
              "</table>\n",
              "</div>"
            ],
            "text/plain": [
              "                                    text_to_annotate  start   end  \\\n",
              "0  Virt - Vite 2.5 - 25 - 1 MG Oral Tablet Vitami...    0.0   3.0   \n",
              "1  Virt - Vite 2.5 - 25 - 1 MG Oral Tablet Vitami...    8.0   9.0   \n",
              "2  Virt - Vite 2.5 - 25 - 1 MG Oral Tablet Vitami...    9.0  10.0   \n",
              "3  Virt - Vite 2.5 - 25 - 1 MG Oral Tablet Vitami...   10.0  11.0   \n",
              "4  Virt - Vite 2.5 - 25 - 1 MG Oral Tablet Vitami...   11.0  14.0   \n",
              "\n",
              "            ann_text                                         definition  \\\n",
              "0        Virt - Vite  A mix of vitamins. It provides vitamin B-6, vi...   \n",
              "1                MG         A tiny amount of something, usually a drug.   \n",
              "2               Oral                                    Taken by mouth.   \n",
              "3             Tablet                                            A pill.   \n",
              "4  Vitamin B complex  A group of vitamins and nutrients.  The body n...   \n",
              "\n",
              "                                         split_print              UMLS+others  \n",
              "0  ['Virt', ' - ', 'The determination of the amou...  ['Virt', ' - ', 'Vite']  \n",
              "1  ['A measure of weight. A milligram is approxim...              ['MG', ' ']  \n",
              "2  ['A substance intended for administration thro...                 ['Oral']  \n",
              "3     ['A tablet intended for oral administration.']               ['Tablet']  \n",
              "4  ['A group of water-soluble vitamins, some of w...    ['Vitamin B complex']  "
            ]
          },
          "execution_count": 9,
          "metadata": {},
          "output_type": "execute_result"
        }
      ],
      "source": [
        "df_v1.head()"
      ]
    },
    {
      "cell_type": "code",
      "execution_count": 10,
      "metadata": {
        "colab": {
          "base_uri": "https://localhost:8080/"
        },
        "id": "MfcLO950XqfW",
        "outputId": "14461572-21f3-4931-f946-5dd42d7aeb18"
      },
      "outputs": [
        {
          "name": "stdout",
          "output_type": "stream",
          "text": [
            "51623\n",
            "42751\n",
            "21317\n"
          ]
        }
      ],
      "source": [
        "# prompt: unique pairs of column values in columns ann_text and definition in dataframe df_v1\n",
        "\n",
        "unique_pairs = df_v1[['ann_text', 'definition']].drop_duplicates()\n",
        "unique_terms = df_v1[['ann_text']].drop_duplicates()\n",
        "unique_def = df_v1[['definition']].drop_duplicates()\n",
        "print(len(unique_pairs))\n",
        "print(len(unique_terms))\n",
        "print(len(unique_def))\n"
      ]
    },
    {
      "cell_type": "code",
      "execution_count": 11,
      "metadata": {
        "colab": {
          "base_uri": "https://localhost:8080/",
          "height": 363
        },
        "id": "hAMD9Nu4XqTb",
        "outputId": "8da1127f-c5a8-431d-8bce-ea35dc9c382d"
      },
      "outputs": [
        {
          "data": {
            "text/html": [
              "<div>\n",
              "<style scoped>\n",
              "    .dataframe tbody tr th:only-of-type {\n",
              "        vertical-align: middle;\n",
              "    }\n",
              "\n",
              "    .dataframe tbody tr th {\n",
              "        vertical-align: top;\n",
              "    }\n",
              "\n",
              "    .dataframe thead th {\n",
              "        text-align: right;\n",
              "    }\n",
              "</style>\n",
              "<table border=\"1\" class=\"dataframe\">\n",
              "  <thead>\n",
              "    <tr style=\"text-align: right;\">\n",
              "      <th></th>\n",
              "      <th>ann_text</th>\n",
              "      <th>definition</th>\n",
              "    </tr>\n",
              "  </thead>\n",
              "  <tbody>\n",
              "    <tr>\n",
              "      <th>0</th>\n",
              "      <td>Virt - Vite</td>\n",
              "      <td>A mix of vitamins. It provides vitamin B-6, vi...</td>\n",
              "    </tr>\n",
              "    <tr>\n",
              "      <th>1</th>\n",
              "      <td>MG</td>\n",
              "      <td>A tiny amount of something, usually a drug.</td>\n",
              "    </tr>\n",
              "    <tr>\n",
              "      <th>2</th>\n",
              "      <td>Oral</td>\n",
              "      <td>Taken by mouth.</td>\n",
              "    </tr>\n",
              "    <tr>\n",
              "      <th>3</th>\n",
              "      <td>Tablet</td>\n",
              "      <td>A pill.</td>\n",
              "    </tr>\n",
              "    <tr>\n",
              "      <th>4</th>\n",
              "      <td>Vitamin B complex</td>\n",
              "      <td>A group of vitamins and nutrients.  The body n...</td>\n",
              "    </tr>\n",
              "    <tr>\n",
              "      <th>5</th>\n",
              "      <td>folic acid</td>\n",
              "      <td>A B vitamin.</td>\n",
              "    </tr>\n",
              "    <tr>\n",
              "      <th>6</th>\n",
              "      <td>vitamin c</td>\n",
              "      <td>A nutrient needed by the body to form and main...</td>\n",
              "    </tr>\n",
              "    <tr>\n",
              "      <th>7</th>\n",
              "      <td>tab</td>\n",
              "      <td>A pill.</td>\n",
              "    </tr>\n",
              "    <tr>\n",
              "      <th>8</th>\n",
              "      <td>po</td>\n",
              "      <td>By mouth.</td>\n",
              "    </tr>\n",
              "    <tr>\n",
              "      <th>9</th>\n",
              "      <td>qd</td>\n",
              "      <td>Every day.</td>\n",
              "    </tr>\n",
              "  </tbody>\n",
              "</table>\n",
              "</div>"
            ],
            "text/plain": [
              "            ann_text                                         definition\n",
              "0        Virt - Vite  A mix of vitamins. It provides vitamin B-6, vi...\n",
              "1                MG         A tiny amount of something, usually a drug.\n",
              "2               Oral                                    Taken by mouth.\n",
              "3             Tablet                                            A pill.\n",
              "4  Vitamin B complex  A group of vitamins and nutrients.  The body n...\n",
              "5         folic acid                                       A B vitamin.\n",
              "6          vitamin c  A nutrient needed by the body to form and main...\n",
              "7               tab                                             A pill.\n",
              "8                 po                                          By mouth.\n",
              "9                 qd                                         Every day."
            ]
          },
          "execution_count": 11,
          "metadata": {},
          "output_type": "execute_result"
        }
      ],
      "source": [
        "unique_pairs.head(10)"
      ]
    },
    {
      "cell_type": "code",
      "execution_count": 12,
      "metadata": {
        "colab": {
          "base_uri": "https://localhost:8080/"
        },
        "id": "SfpqgBC6ecau",
        "outputId": "f6ce213c-84a7-41e1-b75c-e6c272a4e315"
      },
      "outputs": [
        {
          "name": "stdout",
          "output_type": "stream",
          "text": [
            "The area on a chromosome that codes for a particular inherited trait. Many diseases are caused by defective genes.\n",
            "gene\n",
            "A gene is a section of DNA that determines specific characteristics or traits passed down from parents.\n"
          ]
        }
      ],
      "source": [
        "import random\n",
        "\n",
        "ind = random.randint(1, 200)\n",
        "\n",
        "test_def = df_v1['definition'][ind]\n",
        "test_ann = df_v1['ann_text'][ind]\n",
        "print(test_def)\n",
        "print(test_ann)\n",
        "\n",
        "completion = client.chat.completions.create(\n",
        "  model=\"gpt-3.5-turbo\",\n",
        "  messages=[\n",
        "    {\"role\": \"system\", \"content\": \"Generate a lay definition for the term that is similar in style and length to the definition\"},\n",
        "    {\"role\": \"user\", \"content\": \"only output the lay definition of the term presented below in one small sentence without the word \\\"lay definition\\\"\"},\n",
        "    {\"role\": \"user\", \"content\": f\"term : {test_ann}, definition : {test_def}\"}\n",
        "  ]\n",
        ")\n",
        "\n",
        "print(completion.choices[0].message.content)\n",
        "\n"
      ]
    },
    {
      "cell_type": "code",
      "execution_count": 15,
      "metadata": {
        "colab": {
          "base_uri": "https://localhost:8080/"
        },
        "id": "5ZnV_oPKecYO",
        "outputId": "cc6af846-907a-449c-f72e-9a0e2b3fad7d"
      },
      "outputs": [],
      "source": [
        "# prompt: create a column \"gpt_generated\" and generate definitions similar to the \"definition\" in df_v1 using gpt3.5 of the openai\n",
        "\n",
        "import openai\n",
        "\n",
        "def generate_definition(row):\n",
        "  completion = client.chat.completions.create(\n",
        "    model=\"gpt-3.5-turbo\",\n",
        "    messages=[\n",
        "      {\"role\": \"system\", \"content\": \"Generate a lay definition for the term that is similar in style and length to the definition\"},\n",
        "      {\"role\": \"user\", \"content\": \"only output the lay definition of the term presented below in one small sentence without the word \\\"lay definition\\\"\"},\n",
        "      {\"role\": \"user\", \"content\": f\"term : {row['ann_text']}, definition : {row['definition']}\"}\n",
        "    ]\n",
        "  )\n",
        "\n",
        "  return completion.choices[0].message.content\n",
        "\n",
        "unique_pairs['gpt_generated'] = unique_pairs.apply(generate_definition, axis=1)\n",
        "\n"
      ]
    },
    {
      "cell_type": "code",
      "execution_count": 16,
      "metadata": {
        "id": "-iPR1LIPfhuC"
      },
      "outputs": [],
      "source": [
        "unique_pairs.to_csv(\"unique_dummy_v1.csv\")"
      ]
    }
  ],
  "metadata": {
    "colab": {
      "provenance": []
    },
    "kernelspec": {
      "display_name": "Python 3",
      "name": "python3"
    },
    "language_info": {
      "codemirror_mode": {
        "name": "ipython",
        "version": 3
      },
      "file_extension": ".py",
      "mimetype": "text/x-python",
      "name": "python",
      "nbconvert_exporter": "python",
      "pygments_lexer": "ipython3",
      "version": "3.11.2"
    }
  },
  "nbformat": 4,
  "nbformat_minor": 0
}
