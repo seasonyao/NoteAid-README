{
 "cells": [
  {
   "cell_type": "code",
   "execution_count": 1,
   "metadata": {
    "colab": {
     "base_uri": "https://localhost:8080/",
     "height": 35
    },
    "id": "uH29OfAG5ta1",
    "outputId": "d4923bef-f7bc-410e-ad5f-48efb78e2563"
   },
   "outputs": [
    {
     "data": {
      "text/plain": [
       "'\\nworking on annotations.tsv file to generate the meanings of jargon terms based on context\\ngiven in the annotations_20220816.tsv file using models in scispacy\\n\\n'"
      ]
     },
     "execution_count": 1,
     "metadata": {},
     "output_type": "execute_result"
    }
   ],
   "source": [
    "\"\"\"\n",
    "working on annotations.tsv file to generate the meanings of jargon terms based on context\n",
    "given in the annotations_20220816.tsv file using models in scispacy\n",
    "\n",
    "\"\"\""
   ]
  },
  {
   "cell_type": "code",
   "execution_count": 2,
   "metadata": {
    "id": "EESj5Sx252f2"
   },
   "outputs": [
    {
     "name": "stderr",
     "output_type": "stream",
     "text": [
      "2022-12-16 16:28:36.435904: I tensorflow/core/platform/cpu_feature_guard.cc:193] This TensorFlow binary is optimized with oneAPI Deep Neural Network Library (oneDNN) to use the following CPU instructions in performance-critical operations:  AVX2 AVX512F AVX512_VNNI FMA\n",
      "To enable them in other operations, rebuild TensorFlow with the appropriate compiler flags.\n",
      "2022-12-16 16:28:37.620225: I tensorflow/core/util/util.cc:169] oneDNN custom operations are on. You may see slightly different numerical results due to floating-point round-off errors from different computation orders. To turn them off, set the environment variable `TF_ENABLE_ONEDNN_OPTS=0`.\n",
      "2022-12-16 16:28:38.161101: E tensorflow/stream_executor/cuda/cuda_blas.cc:2981] Unable to register cuBLAS factory: Attempting to register factory for plugin cuBLAS when one has already been registered\n",
      "2022-12-16 16:28:42.097245: W tensorflow/stream_executor/platform/default/dso_loader.cc:64] Could not load dynamic library 'libnvinfer.so.7'; dlerror: libnvinfer.so.7: cannot open shared object file: No such file or directory\n",
      "2022-12-16 16:28:42.098060: W tensorflow/stream_executor/platform/default/dso_loader.cc:64] Could not load dynamic library 'libnvinfer_plugin.so.7'; dlerror: libnvinfer_plugin.so.7: cannot open shared object file: No such file or directory\n",
      "2022-12-16 16:28:42.098071: W tensorflow/compiler/tf2tensorrt/utils/py_utils.cc:38] TF-TRT Warning: Cannot dlopen some TensorRT libraries. If you would like to use Nvidia GPU with TensorRT, please make sure the missing libraries mentioned above are installed properly.\n"
     ]
    }
   ],
   "source": [
    "\n",
    "import spacy\n",
    "\n",
    "import pandas as pd\n",
    "import numpy as np\n",
    "\n"
   ]
  },
  {
   "cell_type": "code",
   "execution_count": 3,
   "metadata": {
    "colab": {
     "base_uri": "https://localhost:8080/"
    },
    "id": "M5HBIeNo52de",
    "outputId": "f79bbec7-a267-4472-f40f-ac4e73c3d573"
   },
   "outputs": [],
   "source": [
    "# from google.colab import drive\n",
    "\n",
    "# drive.mount('/content/drive')\n",
    "# FOLDERNAME = '/content/drive/MyDrive'\n",
    "\n",
    "# %cd $FOLDERNAME\n",
    "\n"
   ]
  },
  {
   "cell_type": "code",
   "execution_count": 3,
   "metadata": {
    "colab": {
     "base_uri": "https://localhost:8080/",
     "height": 241
    },
    "id": "NQGgtS4B52ao",
    "outputId": "bc3cb4c6-4908-41e0-8e89-475b32ec33fc"
   },
   "outputs": [
    {
     "name": "stderr",
     "output_type": "stream",
     "text": [
      "/scratch/ials-gpu014/4575558/ipykernel_964407/4268294677.py:1: DtypeWarning: Columns (0) have mixed types. Specify dtype option on import or set low_memory=False.\n",
      "  df = pd.read_csv('annotations_20220816.tsv',delimiter = '\\t', on_bad_lines='skip')\n"
     ]
    },
    {
     "data": {
      "text/html": [
       "<div>\n",
       "<style scoped>\n",
       "    .dataframe tbody tr th:only-of-type {\n",
       "        vertical-align: middle;\n",
       "    }\n",
       "\n",
       "    .dataframe tbody tr th {\n",
       "        vertical-align: top;\n",
       "    }\n",
       "\n",
       "    .dataframe thead th {\n",
       "        text-align: right;\n",
       "    }\n",
       "</style>\n",
       "<table border=\"1\" class=\"dataframe\">\n",
       "  <thead>\n",
       "    <tr style=\"text-align: right;\">\n",
       "      <th></th>\n",
       "      <th>id</th>\n",
       "      <th>text_to_annotate</th>\n",
       "      <th>start</th>\n",
       "      <th>end</th>\n",
       "      <th>ann_text</th>\n",
       "      <th>definition</th>\n",
       "    </tr>\n",
       "  </thead>\n",
       "  <tbody>\n",
       "    <tr>\n",
       "      <th>0</th>\n",
       "      <td>98791999</td>\n",
       "      <td>Virt - Vite 2.5 - 25 - 1 MG Oral Tablet Vitami...</td>\n",
       "      <td>0.0</td>\n",
       "      <td>3.0</td>\n",
       "      <td>Virt - Vite</td>\n",
       "      <td>A mix of vitamins. It provides vitamin B-6, vi...</td>\n",
       "    </tr>\n",
       "    <tr>\n",
       "      <th>1</th>\n",
       "      <td>98791999</td>\n",
       "      <td>Virt - Vite 2.5 - 25 - 1 MG Oral Tablet Vitami...</td>\n",
       "      <td>7.0</td>\n",
       "      <td>8.0</td>\n",
       "      <td>1</td>\n",
       "      <td>{DO NOT DEFINE}</td>\n",
       "    </tr>\n",
       "    <tr>\n",
       "      <th>2</th>\n",
       "      <td>98791999</td>\n",
       "      <td>Virt - Vite 2.5 - 25 - 1 MG Oral Tablet Vitami...</td>\n",
       "      <td>8.0</td>\n",
       "      <td>9.0</td>\n",
       "      <td>MG</td>\n",
       "      <td>A tiny amount of something, usually a drug.</td>\n",
       "    </tr>\n",
       "    <tr>\n",
       "      <th>3</th>\n",
       "      <td>98791999</td>\n",
       "      <td>Virt - Vite 2.5 - 25 - 1 MG Oral Tablet Vitami...</td>\n",
       "      <td>9.0</td>\n",
       "      <td>10.0</td>\n",
       "      <td>Oral</td>\n",
       "      <td>Taken by mouth.</td>\n",
       "    </tr>\n",
       "    <tr>\n",
       "      <th>4</th>\n",
       "      <td>98791999</td>\n",
       "      <td>Virt - Vite 2.5 - 25 - 1 MG Oral Tablet Vitami...</td>\n",
       "      <td>10.0</td>\n",
       "      <td>11.0</td>\n",
       "      <td>Tablet</td>\n",
       "      <td>A pill.</td>\n",
       "    </tr>\n",
       "  </tbody>\n",
       "</table>\n",
       "</div>"
      ],
      "text/plain": [
       "         id                                   text_to_annotate  start   end  \\\n",
       "0  98791999  Virt - Vite 2.5 - 25 - 1 MG Oral Tablet Vitami...    0.0   3.0   \n",
       "1  98791999  Virt - Vite 2.5 - 25 - 1 MG Oral Tablet Vitami...    7.0   8.0   \n",
       "2  98791999  Virt - Vite 2.5 - 25 - 1 MG Oral Tablet Vitami...    8.0   9.0   \n",
       "3  98791999  Virt - Vite 2.5 - 25 - 1 MG Oral Tablet Vitami...    9.0  10.0   \n",
       "4  98791999  Virt - Vite 2.5 - 25 - 1 MG Oral Tablet Vitami...   10.0  11.0   \n",
       "\n",
       "      ann_text                                         definition  \n",
       "0  Virt - Vite  A mix of vitamins. It provides vitamin B-6, vi...  \n",
       "1            1                                    {DO NOT DEFINE}  \n",
       "2          MG         A tiny amount of something, usually a drug.  \n",
       "3         Oral                                    Taken by mouth.  \n",
       "4       Tablet                                            A pill.  "
      ]
     },
     "execution_count": 3,
     "metadata": {},
     "output_type": "execute_result"
    }
   ],
   "source": [
    "df = pd.read_csv('annotations_20220816.tsv',delimiter = '\\t', on_bad_lines='skip')\n",
    "\n",
    "df.head()"
   ]
  },
  {
   "cell_type": "markdown",
   "metadata": {
    "id": "YK8cQaxGVK_m"
   },
   "source": [
    "#Here we muliple ways of using scispacy UMLS on the data given\n",
    "\n",
    "- we can find the meaning of the ann_text column for each sentence\n",
    "- we can find the meaning of all the jargon terms available in unique sentences in text_to_annotate\n",
    "\n",
    "We will work on both the ways but the storage options are tricky\n",
    "- we can use a dictonary for all the jargon terms\n",
    "- we can use dataframe similar to the given one and fill the meaning"
   ]
  },
  {
   "cell_type": "markdown",
   "metadata": {
    "id": "PKv6khSncQDs"
   },
   "source": [
    "#first we will create a new dataframe with unique annotations and create meaning of all the jargon terms in each of these sentences.\n",
    "\n"
   ]
  },
  {
   "cell_type": "code",
   "execution_count": 4,
   "metadata": {
    "id": "KO503BX552X0"
   },
   "outputs": [],
   "source": [
    "df_txt_to_ann = df[[\"text_to_annotate\"]]\n",
    "df1 = pd.DataFrame(df_txt_to_ann.text_to_annotate.dropna().unique(), columns=['unique_sent'])"
   ]
  },
  {
   "cell_type": "code",
   "execution_count": 6,
   "metadata": {
    "colab": {
     "base_uri": "https://localhost:8080/",
     "height": 206
    },
    "id": "aLEh-Vn9cIFW",
    "outputId": "5af0acd0-be69-4cc9-e22d-8cb9dd9011fb"
   },
   "outputs": [
    {
     "data": {
      "text/html": [
       "<div>\n",
       "<style scoped>\n",
       "    .dataframe tbody tr th:only-of-type {\n",
       "        vertical-align: middle;\n",
       "    }\n",
       "\n",
       "    .dataframe tbody tr th {\n",
       "        vertical-align: top;\n",
       "    }\n",
       "\n",
       "    .dataframe thead th {\n",
       "        text-align: right;\n",
       "    }\n",
       "</style>\n",
       "<table border=\"1\" class=\"dataframe\">\n",
       "  <thead>\n",
       "    <tr style=\"text-align: right;\">\n",
       "      <th></th>\n",
       "      <th>unique_sent</th>\n",
       "    </tr>\n",
       "  </thead>\n",
       "  <tbody>\n",
       "    <tr>\n",
       "      <th>0</th>\n",
       "      <td>Virt - Vite 2.5 - 25 - 1 MG Oral Tablet Vitami...</td>\n",
       "    </tr>\n",
       "    <tr>\n",
       "      <th>1</th>\n",
       "      <td>Treatment Received : ondansetron HCl oral 2 mg...</td>\n",
       "    </tr>\n",
       "    <tr>\n",
       "      <th>2</th>\n",
       "      <td>This genetic test ( RhythmNext ) uses gene seq...</td>\n",
       "    </tr>\n",
       "    <tr>\n",
       "      <th>3</th>\n",
       "      <td>surgical path : blood with scant fragments of ...</td>\n",
       "    </tr>\n",
       "    <tr>\n",
       "      <th>4</th>\n",
       "      <td>Recorded as Task Date : [ * * DATE * * ] 03:39...</td>\n",
       "    </tr>\n",
       "  </tbody>\n",
       "</table>\n",
       "</div>"
      ],
      "text/plain": [
       "                                         unique_sent\n",
       "0  Virt - Vite 2.5 - 25 - 1 MG Oral Tablet Vitami...\n",
       "1  Treatment Received : ondansetron HCl oral 2 mg...\n",
       "2  This genetic test ( RhythmNext ) uses gene seq...\n",
       "3  surgical path : blood with scant fragments of ...\n",
       "4  Recorded as Task Date : [ * * DATE * * ] 03:39..."
      ]
     },
     "execution_count": 6,
     "metadata": {},
     "output_type": "execute_result"
    }
   ],
   "source": [
    "df1.head()"
   ]
  },
  {
   "cell_type": "code",
   "execution_count": 7,
   "metadata": {},
   "outputs": [
    {
     "data": {
      "text/plain": [
       "55325"
      ]
     },
     "execution_count": 7,
     "metadata": {},
     "output_type": "execute_result"
    }
   ],
   "source": [
    "len(df1)"
   ]
  },
  {
   "cell_type": "markdown",
   "metadata": {
    "id": "qD8MFlhxcIcE"
   },
   "source": [
    "# Now we use the scispace model"
   ]
  },
  {
   "cell_type": "code",
   "execution_count": 3,
   "metadata": {
    "colab": {
     "base_uri": "https://localhost:8080/"
    },
    "id": "G48moMvE52R_",
    "outputId": "47292111-392b-4c81-c462-3da7a8b9c018"
   },
   "outputs": [
    {
     "name": "stderr",
     "output_type": "stream",
     "text": [
      "Your CPU supports instructions that this binary was not compiled to use: SSE3 SSE4.1 SSE4.2 AVX AVX2\n",
      "For maximum performance, you can install NMSLIB from sources \n",
      "pip install --no-binary :all: nmslib\n"
     ]
    }
   ],
   "source": [
    "# !pip install scispacy -q\n",
    "import scispacy\n",
    "from scispacy.linking import EntityLinker\n",
    "from scispacy.abbreviation import AbbreviationDetector"
   ]
  },
  {
   "cell_type": "code",
   "execution_count": 4,
   "metadata": {
    "colab": {
     "base_uri": "https://localhost:8080/"
    },
    "id": "cq3w5ltY52Pu",
    "outputId": "bf9ceba7-c5af-4500-fe3c-f9eca978660b"
   },
   "outputs": [],
   "source": [
    "# !pip install https://s3-us-west-2.amazonaws.com/ai2-s2-scispacy/releases/v0.5.1/en_core_sci_lg-0.5.1.tar.gz -q"
   ]
  },
  {
   "cell_type": "code",
   "execution_count": 5,
   "metadata": {
    "id": "TFVw4U0OaWbu"
   },
   "outputs": [],
   "source": [
    "from scispacy.umls_linking import UmlsEntityLinker"
   ]
  },
  {
   "cell_type": "code",
   "execution_count": 6,
   "metadata": {
    "id": "LYoiM1J9aWVA"
   },
   "outputs": [],
   "source": [
    "import en_core_sci_lg\n",
    "model = spacy.load('en_core_sci_lg')"
   ]
  },
  {
   "cell_type": "code",
   "execution_count": 7,
   "metadata": {
    "colab": {
     "base_uri": "https://localhost:8080/",
     "height": 385
    },
    "id": "ubddGQ5952M5",
    "outputId": "09057e66-ca73-4dd6-866c-a3e8048f5578"
   },
   "outputs": [
    {
     "name": "stderr",
     "output_type": "stream",
     "text": [
      "/work/pi_hongyu_umass_edu/zonghai/nandyala/Anaconda/envs/UMLS/lib/python3.9/site-packages/sklearn/base.py:329: UserWarning: Trying to unpickle estimator TfidfTransformer from version 0.20.3 when using version 1.1.3. This might lead to breaking code or invalid results. Use at your own risk. For more info please refer to:\n",
      "https://scikit-learn.org/stable/model_persistence.html#security-maintainability-limitations\n",
      "  warnings.warn(\n",
      "/work/pi_hongyu_umass_edu/zonghai/nandyala/Anaconda/envs/UMLS/lib/python3.9/site-packages/sklearn/base.py:329: UserWarning: Trying to unpickle estimator TfidfVectorizer from version 0.20.3 when using version 1.1.3. This might lead to breaking code or invalid results. Use at your own risk. For more info please refer to:\n",
      "https://scikit-learn.org/stable/model_persistence.html#security-maintainability-limitations\n",
      "  warnings.warn(\n"
     ]
    },
    {
     "data": {
      "text/plain": [
       "'\\nattribute_ruler, tok2vec, merge_noun_chunks, merge_entities, merge_subtokens, \\ntoken_splitter, doc_cleaner, parser, beam_parser, lemmatizer, trainable_lemmatizer, \\nentity_linker, ner, beam_ner, entity_ruler, tagger, morphologizer, senter, sentencizer, \\ntextcat, spancat, future_entity_ruler, span_ruler, textcat_multilabel, scispacy_linker, en.lemmatizer\\n\\n'"
      ]
     },
     "execution_count": 7,
     "metadata": {},
     "output_type": "execute_result"
    }
   ],
   "source": [
    "# linker = UmlsEntityLinker(resolve_abbreviations=True)   \n",
    "model.add_pipe(\"scispacy_linker\",config = {\"resolve_abbreviations\":True,\"linker_name\":\"umls\"}) #here in place of umls we can also use mesh, rxnorm, go, hpo\n",
    "  \n",
    "\"\"\"\n",
    "attribute_ruler, tok2vec, merge_noun_chunks, merge_entities, merge_subtokens, \n",
    "token_splitter, doc_cleaner, parser, beam_parser, lemmatizer, trainable_lemmatizer, \n",
    "entity_linker, ner, beam_ner, entity_ruler, tagger, morphologizer, senter, sentencizer, \n",
    "textcat, spancat, future_entity_ruler, span_ruler, textcat_multilabel, scispacy_linker, en.lemmatizer\n",
    "\n",
    "\"\"\""
   ]
  },
  {
   "cell_type": "code",
   "execution_count": 8,
   "metadata": {
    "colab": {
     "base_uri": "https://localhost:8080/"
    },
    "id": "DMsuiOWG52KW",
    "outputId": "83ceaa6f-b92d-435d-bccb-4a9891c9017d"
   },
   "outputs": [
    {
     "data": {
      "text/plain": [
       "<scispacy.abbreviation.AbbreviationDetector at 0x7f7a200c9430>"
      ]
     },
     "execution_count": 8,
     "metadata": {},
     "output_type": "execute_result"
    }
   ],
   "source": [
    "model.add_pipe(\"abbreviation_detector\")"
   ]
  },
  {
   "cell_type": "code",
   "execution_count": 9,
   "metadata": {
    "id": "UbEvtjqS52GA"
   },
   "outputs": [],
   "source": [
    "linker = model.get_pipe(\"scispacy_linker\")"
   ]
  },
  {
   "cell_type": "code",
   "execution_count": 10,
   "metadata": {},
   "outputs": [],
   "source": [
    "# experiments with the model to understand the UMLS in scispacy"
   ]
  },
  {
   "cell_type": "code",
   "execution_count": 33,
   "metadata": {},
   "outputs": [],
   "source": [
    "doc_sent = model(\"comprehensive metabolic panel\")"
   ]
  },
  {
   "cell_type": "code",
   "execution_count": 35,
   "metadata": {},
   "outputs": [
    {
     "name": "stdout",
     "output_type": "stream",
     "text": [
      "Name:  metabolic panel\n"
     ]
    }
   ],
   "source": [
    "entity = doc_sent.ents[1]\n",
    "print(\"Name: \", entity)"
   ]
  },
  {
   "cell_type": "code",
   "execution_count": 28,
   "metadata": {},
   "outputs": [
    {
     "data": {
      "text/plain": [
       "[('C2004459', 0.8552523255348206),\n",
       " ('C4727183', 0.7795246243476868),\n",
       " ('C0000726', 0.7552656531333923),\n",
       " ('C5200941', 0.7552656531333923),\n",
       " ('C1112209', 0.7247007489204407)]"
      ]
     },
     "execution_count": 28,
     "metadata": {},
     "output_type": "execute_result"
    }
   ],
   "source": [
    "entity._.kb_ents"
   ]
  },
  {
   "cell_type": "code",
   "execution_count": 29,
   "metadata": {},
   "outputs": [
    {
     "name": "stdout",
     "output_type": "stream",
     "text": [
      "CUI: C2004459, Name: Abdominoperineal resection\n",
      "Definition: Surgery to remove the anus, the rectum, and part of the sigmoid colon through an incision made in the abdomen. The end of the intestine is attached to an opening in the surface of the abdomen and body waste is collected in a disposable bag outside of the body. This opening is called a colostomy. Lymph nodes that contain cancer may also be removed during this operation.\n",
      "TUI(s): T061\n",
      "Aliases (abbreviated, total: 37): \n",
      "\t Resections, Abdominoperineal, Resection, Abdominoperineal, Resection, Abdomino-Perineal, Abdomino-perineal Excisions, APR, AP resection, Abdomino-Perineal Rectum Excisions, AP resection of rectum, Excision, Abdomino-perineal, Abdominoperineal Rectum Excisions\n",
      "CUI: C4727183, Name: Transabdominal Resection\n",
      "Definition: Surgery comprising either abdominoperineal resection, low anterior resection, or coloanal anastomosis with total mesorectal excision.\n",
      "TUI(s): T061\n",
      "Aliases: (total: 0): \n",
      "\t \n",
      "CUI: C0000726, Name: Abdomen\n",
      "Definition: That portion of the body that lies between the THORAX and the PELVIS.\n",
      "TUI(s): T029\n",
      "Aliases (abbreviated, total: 16): \n",
      "\t Abdomen, abd, Abdomen, NOS, Structure of abdominopelvic cavity and/or content of abdominopelvic cavity and/or anterior abdominal wall, Intra-abdominopelvic structure and/or anterior abdominal wall, Abdomens, Structure of abdominopelvic cavity and/or content of abdominopelvic cavity and/or anterior abdominal wall (body structure), Abdomen (volume), abdominopelvic regions, Abdominopelvic region\n",
      "CUI: C5200941, Name: Abdominal (qualifier value)\n",
      "Definition: Having to do with the abdomen, which is the part of the body between the chest and the hips that contains the pancreas, stomach, intestines, liver, gallbladder, and other organs.\n",
      "TUI(s): T082\n",
      "Aliases: (total: 3): \n",
      "\t Abdominal, Abdominal (qualifier value), abdominal\n",
      "CUI: C1112209, Name: Abdominal Infection\n",
      "Definition: Infection within the PERITONEAL CAVITY. A frequent cause is an ANASTOMOTIC LEAK following surgery.\n",
      "TUI(s): T047\n",
      "Aliases (abbreviated, total: 22): \n",
      "\t abdomen infection, Infectious disorder of abdomen, Infectious disease of abdomen, Intraabdominal Infections, Abdominal Infection, abdominal infections, Infection, Intraabdominal, infection of abdomen, Intra-Abdominal Infection, Intra Abdominal Infections\n"
     ]
    }
   ],
   "source": [
    "for umls_ent in entity._.kb_ents:\n",
    "\tprint(linker.kb.cui_to_entity[umls_ent[0]]) #number 4 is definition"
   ]
  },
  {
   "cell_type": "code",
   "execution_count": null,
   "metadata": {},
   "outputs": [],
   "source": []
  },
  {
   "cell_type": "code",
   "execution_count": null,
   "metadata": {},
   "outputs": [],
   "source": [
    "# experiments with the model ends"
   ]
  },
  {
   "cell_type": "code",
   "execution_count": null,
   "metadata": {},
   "outputs": [],
   "source": []
  },
  {
   "cell_type": "code",
   "execution_count": null,
   "metadata": {
    "id": "8oyUTPx-G9OT"
   },
   "outputs": [],
   "source": [
    "df_term = pd.DataFrame(columns=['row_num', 'sentence', 'jargon_term','definition'])"
   ]
  },
  {
   "cell_type": "code",
   "execution_count": null,
   "metadata": {
    "colab": {
     "base_uri": "https://localhost:8080/",
     "height": 451
    },
    "id": "zDvqGsLI52Df",
    "outputId": "97bfb3f3-0b6b-4e99-c5c5-669c2efcf58e"
   },
   "outputs": [],
   "source": [
    "# df_term['uml_definition'] = df_term.apply(lambda row : linker.kb.cui_to_entity[model(row['Term']).ents[0])._.kb_ents[0],axis = 1)\n",
    "# df_term['Definition'] = \"\"\n",
    "\n",
    "\n",
    "for i in range(len(df1)):\n",
    "  if(i%1000 == 0):\n",
    "    print(i)\n",
    "  # print(i)\n",
    "  docc = model(df1['unique_sent'][i])\n",
    "  # print(df['Term'][i])\n",
    "  for j in range(len(docc.ents)):\n",
    "    try:\n",
    "        entt = docc.ents[j]\n",
    "#       print(i,\"th sentence \",j,\" enity is \",entt)\n",
    "        for umls_entt in entt._.kb_ents:\n",
    "        # df_term['Definition'][i] = linker.kb.cui_to_entity[umls_entt[0]][4]\n",
    "            temp = {'row_num' : i,'sentence' : df1['unique_sent'][i],'jargon_term' : docc.ents[j],'definition' : linker.kb.cui_to_entity[umls_entt[0]][4]}\n",
    "            dt_tempp = pd.DataFrame(temp)\n",
    "            df_term = pd.concat([df_term,dt_tempp],ignore_index=True)\n",
    "#         df_term.append(temp,ignore_index = True)\n",
    "\n",
    "            break\n",
    "    except:\n",
    "        temp = {'row_num' : i,'sentence' : df1['unique_sent'][i],'jargon_term' : docc.ents[j],'definition' : \"not found in umls\"}\n",
    "        dt_tempp = pd.DataFrame(temp)\n",
    "        df_term = pd.concat([df_term,dt_tempp],ignore_index=True)\n",
    "#       df_term.append(temp,ignore_index = True)\n",
    "      # df_term['Definition'][i] = \"not found in umls\"\n",
    "      # print(df['Definition'][i])\n",
    "      # break"
   ]
  },
  {
   "cell_type": "code",
   "execution_count": null,
   "metadata": {
    "colab": {
     "base_uri": "https://localhost:8080/",
     "height": 166
    },
    "id": "Uc4dv97zKeNf",
    "outputId": "227127d5-e373-4c50-fbfe-b864b93ad6fa"
   },
   "outputs": [],
   "source": [
    "df_term.head(30)"
   ]
  },
  {
   "cell_type": "code",
   "execution_count": null,
   "metadata": {
    "id": "UBsunAqc52BC"
   },
   "outputs": [],
   "source": [
    "df_term.to_csv(\"df_annotations.csv\")"
   ]
  },
  {
   "cell_type": "code",
   "execution_count": null,
   "metadata": {
    "id": "jseTHD8D51-b"
   },
   "outputs": [],
   "source": []
  }
 ],
 "metadata": {
  "colab": {
   "provenance": []
  },
  "kernelspec": {
   "display_name": "Python 3 (ipykernel)",
   "language": "python",
   "name": "python3"
  },
  "language_info": {
   "codemirror_mode": {
    "name": "ipython",
    "version": 3
   },
   "file_extension": ".py",
   "mimetype": "text/x-python",
   "name": "python",
   "nbconvert_exporter": "python",
   "pygments_lexer": "ipython3",
   "version": "3.9.13"
  }
 },
 "nbformat": 4,
 "nbformat_minor": 1
}
