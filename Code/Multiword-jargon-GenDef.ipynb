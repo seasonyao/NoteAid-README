{
 "cells": [
  {
   "cell_type": "code",
   "execution_count": 1,
   "id": "06b9e396",
   "metadata": {},
   "outputs": [
    {
     "name": "stderr",
     "output_type": "stream",
     "text": [
      "2023-02-13 20:35:06.248589: I tensorflow/core/platform/cpu_feature_guard.cc:193] This TensorFlow binary is optimized with oneAPI Deep Neural Network Library (oneDNN) to use the following CPU instructions in performance-critical operations:  AVX2 AVX512F AVX512_VNNI FMA\n",
      "To enable them in other operations, rebuild TensorFlow with the appropriate compiler flags.\n",
      "2023-02-13 20:35:06.429633: I tensorflow/core/util/util.cc:169] oneDNN custom operations are on. You may see slightly different numerical results due to floating-point round-off errors from different computation orders. To turn them off, set the environment variable `TF_ENABLE_ONEDNN_OPTS=0`.\n",
      "2023-02-13 20:35:06.465179: E tensorflow/stream_executor/cuda/cuda_blas.cc:2981] Unable to register cuBLAS factory: Attempting to register factory for plugin cuBLAS when one has already been registered\n",
      "2023-02-13 20:35:08.679777: W tensorflow/stream_executor/platform/default/dso_loader.cc:64] Could not load dynamic library 'libnvinfer.so.7'; dlerror: libnvinfer.so.7: cannot open shared object file: No such file or directory\n",
      "2023-02-13 20:35:08.679898: W tensorflow/stream_executor/platform/default/dso_loader.cc:64] Could not load dynamic library 'libnvinfer_plugin.so.7'; dlerror: libnvinfer_plugin.so.7: cannot open shared object file: No such file or directory\n",
      "2023-02-13 20:35:08.679912: W tensorflow/compiler/tf2tensorrt/utils/py_utils.cc:38] TF-TRT Warning: Cannot dlopen some TensorRT libraries. If you would like to use Nvidia GPU with TensorRT, please make sure the missing libraries mentioned above are installed properly.\n"
     ]
    }
   ],
   "source": [
    "import spacy\n",
    "import pandas as pd\n",
    "import numpy as np"
   ]
  },
  {
   "cell_type": "code",
   "execution_count": 2,
   "id": "925187e8",
   "metadata": {},
   "outputs": [
    {
     "name": "stderr",
     "output_type": "stream",
     "text": [
      "/scratch/ials-gpu025/5323942/ipykernel_2031976/2456222905.py:1: DtypeWarning: Columns (0,3) have mixed types. Specify dtype option on import or set low_memory=False.\n",
      "  df = pd.read_csv('expert_data.tsv',delimiter = '\\t', on_bad_lines='skip')\n"
     ]
    },
    {
     "data": {
      "text/html": [
       "<div>\n",
       "<style scoped>\n",
       "    .dataframe tbody tr th:only-of-type {\n",
       "        vertical-align: middle;\n",
       "    }\n",
       "\n",
       "    .dataframe tbody tr th {\n",
       "        vertical-align: top;\n",
       "    }\n",
       "\n",
       "    .dataframe thead th {\n",
       "        text-align: right;\n",
       "    }\n",
       "</style>\n",
       "<table border=\"1\" class=\"dataframe\">\n",
       "  <thead>\n",
       "    <tr style=\"text-align: right;\">\n",
       "      <th></th>\n",
       "      <th>id</th>\n",
       "      <th>text_to_annotate</th>\n",
       "      <th>start</th>\n",
       "      <th>end</th>\n",
       "      <th>ann_text</th>\n",
       "      <th>definition</th>\n",
       "    </tr>\n",
       "  </thead>\n",
       "  <tbody>\n",
       "    <tr>\n",
       "      <th>0</th>\n",
       "      <td>98791999</td>\n",
       "      <td>Virt - Vite 2.5 - 25 - 1 MG Oral Tablet Vitami...</td>\n",
       "      <td>0.0</td>\n",
       "      <td>3</td>\n",
       "      <td>Virt - Vite</td>\n",
       "      <td>A mix of vitamins. It provides vitamin B-6, vi...</td>\n",
       "    </tr>\n",
       "    <tr>\n",
       "      <th>1</th>\n",
       "      <td>98791999</td>\n",
       "      <td>Virt - Vite 2.5 - 25 - 1 MG Oral Tablet Vitami...</td>\n",
       "      <td>7.0</td>\n",
       "      <td>8</td>\n",
       "      <td>1</td>\n",
       "      <td>{DO NOT DEFINE}</td>\n",
       "    </tr>\n",
       "    <tr>\n",
       "      <th>2</th>\n",
       "      <td>98791999</td>\n",
       "      <td>Virt - Vite 2.5 - 25 - 1 MG Oral Tablet Vitami...</td>\n",
       "      <td>8.0</td>\n",
       "      <td>9</td>\n",
       "      <td>MG</td>\n",
       "      <td>A tiny amount of something, usually a drug.</td>\n",
       "    </tr>\n",
       "    <tr>\n",
       "      <th>3</th>\n",
       "      <td>98791999</td>\n",
       "      <td>Virt - Vite 2.5 - 25 - 1 MG Oral Tablet Vitami...</td>\n",
       "      <td>9.0</td>\n",
       "      <td>10</td>\n",
       "      <td>Oral</td>\n",
       "      <td>Taken by mouth.</td>\n",
       "    </tr>\n",
       "    <tr>\n",
       "      <th>4</th>\n",
       "      <td>98791999</td>\n",
       "      <td>Virt - Vite 2.5 - 25 - 1 MG Oral Tablet Vitami...</td>\n",
       "      <td>10.0</td>\n",
       "      <td>11</td>\n",
       "      <td>Tablet</td>\n",
       "      <td>A pill.</td>\n",
       "    </tr>\n",
       "  </tbody>\n",
       "</table>\n",
       "</div>"
      ],
      "text/plain": [
       "         id                                   text_to_annotate  start end  \\\n",
       "0  98791999  Virt - Vite 2.5 - 25 - 1 MG Oral Tablet Vitami...    0.0   3   \n",
       "1  98791999  Virt - Vite 2.5 - 25 - 1 MG Oral Tablet Vitami...    7.0   8   \n",
       "2  98791999  Virt - Vite 2.5 - 25 - 1 MG Oral Tablet Vitami...    8.0   9   \n",
       "3  98791999  Virt - Vite 2.5 - 25 - 1 MG Oral Tablet Vitami...    9.0  10   \n",
       "4  98791999  Virt - Vite 2.5 - 25 - 1 MG Oral Tablet Vitami...   10.0  11   \n",
       "\n",
       "      ann_text                                         definition  \n",
       "0  Virt - Vite  A mix of vitamins. It provides vitamin B-6, vi...  \n",
       "1            1                                    {DO NOT DEFINE}  \n",
       "2          MG         A tiny amount of something, usually a drug.  \n",
       "3         Oral                                    Taken by mouth.  \n",
       "4       Tablet                                            A pill.  "
      ]
     },
     "execution_count": 2,
     "metadata": {},
     "output_type": "execute_result"
    }
   ],
   "source": [
    "df = pd.read_csv('expert_data.tsv',delimiter = '\\t', on_bad_lines='skip')\n",
    "\n",
    "df.head()"
   ]
  },
  {
   "cell_type": "code",
   "execution_count": 3,
   "id": "736ce7d2",
   "metadata": {},
   "outputs": [
    {
     "name": "stderr",
     "output_type": "stream",
     "text": [
      "Your CPU supports instructions that this binary was not compiled to use: SSE3 SSE4.1 SSE4.2 AVX AVX2\n",
      "For maximum performance, you can install NMSLIB from sources \n",
      "pip install --no-binary :all: nmslib\n"
     ]
    }
   ],
   "source": [
    "import scispacy\n",
    "from scispacy.linking import EntityLinker\n",
    "from scispacy.abbreviation import AbbreviationDetector"
   ]
  },
  {
   "cell_type": "code",
   "execution_count": null,
   "id": "3b993a48",
   "metadata": {},
   "outputs": [],
   "source": []
  },
  {
   "cell_type": "code",
   "execution_count": 4,
   "id": "a8e27c8a",
   "metadata": {},
   "outputs": [
    {
     "name": "stderr",
     "output_type": "stream",
     "text": [
      "/work/pi_hongyu_umass_edu/zonghai/nandyala/Anaconda/envs/UMLS/lib/python3.9/site-packages/sklearn/base.py:329: UserWarning: Trying to unpickle estimator TfidfTransformer from version 0.20.3 when using version 1.1.3. This might lead to breaking code or invalid results. Use at your own risk. For more info please refer to:\n",
      "https://scikit-learn.org/stable/model_persistence.html#security-maintainability-limitations\n",
      "  warnings.warn(\n",
      "/work/pi_hongyu_umass_edu/zonghai/nandyala/Anaconda/envs/UMLS/lib/python3.9/site-packages/sklearn/base.py:329: UserWarning: Trying to unpickle estimator TfidfVectorizer from version 0.20.3 when using version 1.1.3. This might lead to breaking code or invalid results. Use at your own risk. For more info please refer to:\n",
      "https://scikit-learn.org/stable/model_persistence.html#security-maintainability-limitations\n",
      "  warnings.warn(\n"
     ]
    },
    {
     "data": {
      "text/plain": [
       "'\\nattribute_ruler, tok2vec, merge_noun_chunks, merge_entities, merge_subtokens, \\ntoken_splitter, doc_cleaner, parser, beam_parser, lemmatizer, trainable_lemmatizer, \\nentity_linker, ner, beam_ner, entity_ruler, tagger, morphologizer, senter, sentencizer, \\ntextcat, spancat, future_entity_ruler, span_ruler, textcat_multilabel, scispacy_linker, en.lemmatizer\\n\\n'"
      ]
     },
     "execution_count": 4,
     "metadata": {},
     "output_type": "execute_result"
    }
   ],
   "source": [
    "import en_core_sci_lg\n",
    "model = spacy.load('en_core_sci_lg')\n",
    "model.add_pipe(\"scispacy_linker\",config = {\"resolve_abbreviations\":True,\"linker_name\":\"umls\"}) #here in place of umls we can also use mesh, rxnorm, go, hpo\n",
    "  \n",
    "\"\"\"\n",
    "attribute_ruler, tok2vec, merge_noun_chunks, merge_entities, merge_subtokens, \n",
    "token_splitter, doc_cleaner, parser, beam_parser, lemmatizer, trainable_lemmatizer, \n",
    "entity_linker, ner, beam_ner, entity_ruler, tagger, morphologizer, senter, sentencizer, \n",
    "textcat, spancat, future_entity_ruler, span_ruler, textcat_multilabel, scispacy_linker, en.lemmatizer\n",
    "\n",
    "\"\"\""
   ]
  },
  {
   "cell_type": "code",
   "execution_count": 5,
   "id": "7d465e38",
   "metadata": {},
   "outputs": [],
   "source": [
    "linker = model.get_pipe(\"scispacy_linker\")"
   ]
  },
  {
   "cell_type": "code",
   "execution_count": 6,
   "id": "38a41a14",
   "metadata": {},
   "outputs": [],
   "source": [
    "doc = model(\"protonix\") "
   ]
  },
  {
   "cell_type": "code",
   "execution_count": 7,
   "id": "651abf89",
   "metadata": {},
   "outputs": [
    {
     "name": "stdout",
     "output_type": "stream",
     "text": [
      "Name:  protonix\n"
     ]
    }
   ],
   "source": [
    "entity = doc.ents[0]\n",
    "print(\"Name: \", entity)"
   ]
  },
  {
   "cell_type": "code",
   "execution_count": 8,
   "id": "a251ba08",
   "metadata": {},
   "outputs": [
    {
     "data": {
      "text/plain": [
       "('C0876139', 1.0)"
      ]
     },
     "execution_count": 8,
     "metadata": {},
     "output_type": "execute_result"
    }
   ],
   "source": [
    "entity._.kb_ents[0]\n"
   ]
  },
  {
   "cell_type": "code",
   "execution_count": 9,
   "id": "49fda0a5",
   "metadata": {},
   "outputs": [
    {
     "name": "stdout",
     "output_type": "stream",
     "text": [
      "CUI: C0876139, Name: Protonix\n",
      "Definition: None\n",
      "TUI(s): T109, T121\n",
      "Aliases: (total: 2): \n",
      "\t protonix, Protonix\n"
     ]
    }
   ],
   "source": [
    "for umls_ent in entity._.kb_ents:\n",
    "    print(linker.kb.cui_to_entity[umls_ent[0]]) #number 4 is definition"
   ]
  },
  {
   "cell_type": "code",
   "execution_count": null,
   "id": "d1739d3a",
   "metadata": {},
   "outputs": [],
   "source": []
  },
  {
   "cell_type": "code",
   "execution_count": null,
   "id": "6ab70821",
   "metadata": {},
   "outputs": [],
   "source": []
  },
  {
   "cell_type": "code",
   "execution_count": null,
   "id": "67539a7e",
   "metadata": {},
   "outputs": [],
   "source": []
  },
  {
   "cell_type": "code",
   "execution_count": 11,
   "id": "63d8af98",
   "metadata": {},
   "outputs": [],
   "source": [
    "import torch\n",
    "from sentence_transformers import SentenceTransformer, util\n",
    "embedder = SentenceTransformer('all-MiniLM-L6-v2')"
   ]
  },
  {
   "cell_type": "code",
   "execution_count": null,
   "id": "8e100363",
   "metadata": {},
   "outputs": [],
   "source": []
  },
  {
   "cell_type": "code",
   "execution_count": 12,
   "id": "75fe6d53",
   "metadata": {},
   "outputs": [],
   "source": [
    "jterm = \"Spinal and bulbar muscular atrophy (SBMA) is an inherited motor neuron disease caused by the expansion of a polyglutamine tract within the androgen receptor (AR). SBMA can be caused by this easily.\"\n",
    "\n",
    "lay_def = \"Spinal and bulbar muscular atrophy mainly affects males and is characterized by muscle weakness and wasting (atrophy) that usually begins in adulthood and worsens slowly over time\""
   ]
  },
  {
   "cell_type": "code",
   "execution_count": 13,
   "id": "a39cf247",
   "metadata": {},
   "outputs": [],
   "source": [
    "jj = \"inguinal\"\n",
    "ll = \"To do with the area in between the fold of the groin\""
   ]
  },
  {
   "cell_type": "code",
   "execution_count": 14,
   "id": "2f91eb1e",
   "metadata": {},
   "outputs": [],
   "source": [
    "jj1 = \"periventricular\"\n",
    "ll1 = \"Abnormal low attenuation is noted in the subcortical and periventricular deep white matter of both cerebral hemispheres suggestive of small vessel chronic ischemic disease.\""
   ]
  },
  {
   "cell_type": "code",
   "execution_count": 15,
   "id": "0ee358c0",
   "metadata": {},
   "outputs": [],
   "source": [
    "wl = [\"Spinal\", \"bulbar muscular atrophy\", \"SBMA\", \"inherited\", \"motor neuron disease\", \"expansion\", \"polyglutamine tract\", \"androgen receptor\", \"AR\", \"SBMA\"]"
   ]
  },
  {
   "cell_type": "code",
   "execution_count": 16,
   "id": "052b5433",
   "metadata": {},
   "outputs": [],
   "source": [
    "def sentence_split(sentence, word_list):\n",
    "    split = []\n",
    "    for w in word_list:\n",
    "        begin = sentence[:sentence.index(w)]\n",
    "        if begin != \"\" and begin != \" \":\n",
    "            split.append(begin)\n",
    "        split.append(w)\n",
    "        sentence = sentence[sentence.index(w)+len(w):]\n",
    "    if sentence != \"\":\n",
    "        split.append(sentence)\n",
    "#     print(split)\n",
    "    return split\n",
    "\n",
    "\n",
    "#     begin = sentence[:sentence.index(word_list[0])]\n",
    "#     print(begin)\n",
    "#     end = sentence[sentence.index(word_list[1])+len(word_list[0]):]\n",
    "    \n",
    "#     print(end)"
   ]
  },
  {
   "cell_type": "code",
   "execution_count": 17,
   "id": "197d6368",
   "metadata": {},
   "outputs": [
    {
     "data": {
      "text/plain": [
       "['Spinal',\n",
       " ' and ',\n",
       " 'bulbar muscular atrophy',\n",
       " ' (',\n",
       " 'SBMA',\n",
       " ') is an ',\n",
       " 'inherited',\n",
       " 'motor neuron disease',\n",
       " ' caused by the ',\n",
       " 'expansion',\n",
       " ' of a ',\n",
       " 'polyglutamine tract',\n",
       " ' within the ',\n",
       " 'androgen receptor',\n",
       " ' (',\n",
       " 'AR',\n",
       " '). ',\n",
       " 'SBMA',\n",
       " ' can be caused by this easily.']"
      ]
     },
     "execution_count": 17,
     "metadata": {},
     "output_type": "execute_result"
    }
   ],
   "source": [
    "sentence_split(jterm,wl)"
   ]
  },
  {
   "cell_type": "code",
   "execution_count": 24,
   "id": "dbfcaf7a",
   "metadata": {},
   "outputs": [],
   "source": [
    "# forgot to put try as corpus could be empty\n",
    "def case4(jterm,lay_def):\n",
    "#     print(jterm)\n",
    "#     jterm = str(jterm)\n",
    "#     lay_def = str(lay_def)\n",
    "    docc = model(jterm)\n",
    "    arr = []\n",
    "    for i in range(len(docc.ents)):\n",
    "        entt = docc.ents[i]\n",
    "        arr.append(entt)\n",
    "    gen_def = []\n",
    "    Dict = {}\n",
    "#     print(\"arr is \",arr)\n",
    "#     print(type(arr[0]))\n",
    "    for jt in arr:\n",
    "        corpus = []\n",
    "        for umls_ent in jt._.kb_ents:\n",
    "            corpus.append(linker.kb.cui_to_entity[umls_ent[0]][4])\n",
    "        if len(corpus) == 0 or corpus[0] == None:\n",
    "            corpus.append(jt.text)\n",
    "        corpus_embeddings = embedder.encode(corpus, convert_to_tensor=True)\n",
    "        lay_def_emb = embedder.encode(lay_def, convert_to_tensor=True)\n",
    "        cos_scores = util.cos_sim(lay_def_emb, corpus_embeddings)[0]\n",
    "        top_results = torch.topk(cos_scores, k=1)\n",
    "#         print(corpus)\n",
    "        for score, idx in zip(top_results[0], top_results[1]):\n",
    "            gen_def.append(corpus[idx])\n",
    "            Dict[jt.text] = corpus[idx]\n",
    "    arr = [i.text for i in arr]\n",
    "    sent_split = sentence_split(jterm, arr)\n",
    "    copyy = sent_split.copy()\n",
    "#     print(sent_split)\n",
    "    for i in range(len(sent_split)):\n",
    "        if sent_split[i] in Dict:\n",
    "            sent_split[i] = Dict[sent_split[i]]\n",
    "            \n",
    "#     print(sent_split)\n",
    "    return sent_split,copyy"
   ]
  },
  {
   "cell_type": "code",
   "execution_count": 19,
   "id": "e09a3137",
   "metadata": {},
   "outputs": [
    {
     "data": {
      "text/plain": [
       "(['Of or relating to the spine or spinal cord.',\n",
       "  ' and ',\n",
       "  'An X-linked recessive form of spinal muscular atrophy. It is due to a mutation of the gene encoding the ANDROGEN RECEPTOR.',\n",
       "  ' (',\n",
       "  'An X-linked recessive form of spinal muscular atrophy. It is due to a mutation of the gene encoding the ANDROGEN RECEPTOR.',\n",
       "  ') is an ',\n",
       "  'A hereditary disorder that affects the sensory and/or motor nerves or the autonomic nerves.',\n",
       "  'Diseases characterized by a selective degeneration of the motor neurons of the spinal cord, brainstem, or motor cortex. Clinical subtypes are distinguished by the major site of degeneration. In AMYOTROPHIC LATERAL SCLEROSIS there is involvement of upper, lower, and brainstem motor neurons. In progressive muscular atrophy and related syndromes (see MUSCULAR ATROPHY, SPINAL) the motor neurons in the spinal cord are primarily affected. With progressive bulbar palsy (BULBAR PALSY, PROGRESSIVE), the initial degeneration occurs in the brainstem. In primary lateral sclerosis, the cortical neurons are affected in isolation. (Adams et al., Principles of Neurology, 6th ed, p1089)',\n",
       "  ' caused by the ',\n",
       "  'The process of expanding or inflating the folded imaginal disc-derived pupal wing, and the adhering of the dorsal and ventral surfaces, to form the mature adult wing. [GOC:mtg_sensu, GOC:rc]',\n",
       "  ' of a ',\n",
       "  'A peptide that is a homopolymer of glutamic acid.',\n",
       "  ' within the ',\n",
       "  'Androgen receptor (919 aa, ~99 kDa) is encoded by the human AR gene. This protein plays a role in the modulation of steroid-dependent gene transcription.',\n",
       "  ' (',\n",
       "  'An unexpected medical problem that happens during treatment with a drug or other therapy. Adverse effects do not have to be caused by the drug or therapy, and they may be mild, moderate, or severe.',\n",
       "  '). ',\n",
       "  'An X-linked recessive form of spinal muscular atrophy. It is due to a mutation of the gene encoding the ANDROGEN RECEPTOR.',\n",
       "  ' can be caused by this easily.'],\n",
       " ['Spinal',\n",
       "  ' and ',\n",
       "  'bulbar muscular atrophy',\n",
       "  ' (',\n",
       "  'SBMA',\n",
       "  ') is an ',\n",
       "  'inherited',\n",
       "  'motor neuron disease',\n",
       "  ' caused by the ',\n",
       "  'expansion',\n",
       "  ' of a ',\n",
       "  'polyglutamine tract',\n",
       "  ' within the ',\n",
       "  'androgen receptor',\n",
       "  ' (',\n",
       "  'AR',\n",
       "  '). ',\n",
       "  'SBMA',\n",
       "  ' can be caused by this easily.'])"
      ]
     },
     "execution_count": 19,
     "metadata": {},
     "output_type": "execute_result"
    }
   ],
   "source": [
    "case4(jterm,lay_def)\n",
    "# jterm = \"Spinal and bulbar muscular atrophy (SBMA) is an \n",
    "# inherited motor neuron disease caused by the expansion of a polyglutamine \n",
    "# tract within the androgen receptor (AR). SBMA can be caused by this easily.\""
   ]
  },
  {
   "cell_type": "code",
   "execution_count": 46,
   "id": "419ad539",
   "metadata": {},
   "outputs": [
    {
     "data": {
      "text/plain": [
       "(['The external junctural region between the lower part of the abdomen and the thigh.'],\n",
       " ['inguinal'])"
      ]
     },
     "execution_count": 46,
     "metadata": {},
     "output_type": "execute_result"
    }
   ],
   "source": [
    "case4(jj,ll)"
   ]
  },
  {
   "cell_type": "code",
   "execution_count": 47,
   "id": "a7c06434",
   "metadata": {},
   "outputs": [
    {
     "data": {
      "text/plain": [
       "(['A disorder resulting from a defect in the pattern of neuronal migration in which ectopic collections of neurons lie along the lateral ventricles of the brain or just beneath, contiguously or in isolated patches.'],\n",
       " ['periventricular'])"
      ]
     },
     "execution_count": 47,
     "metadata": {},
     "output_type": "execute_result"
    }
   ],
   "source": [
    "case4(jj1,ll1)"
   ]
  },
  {
   "cell_type": "code",
   "execution_count": 48,
   "id": "da4e4f1f",
   "metadata": {},
   "outputs": [
    {
     "data": {
      "text/plain": [
       "(['disorders of the dental system that exist at, and usually before, birth regardless of their causation.'],\n",
       " ['abnormalities'])"
      ]
     },
     "execution_count": 48,
     "metadata": {},
     "output_type": "execute_result"
    }
   ],
   "source": [
    "case4(\"abnormalities\",\"Something that is not normal.\")"
   ]
  },
  {
   "cell_type": "code",
   "execution_count": 49,
   "id": "5848b096",
   "metadata": {},
   "outputs": [
    {
     "data": {
      "text/plain": [
       "(['The material exuded from a wound, either surgical or traumatic.'],\n",
       " ['oozing'])"
      ]
     },
     "execution_count": 49,
     "metadata": {},
     "output_type": "execute_result"
    }
   ],
   "source": [
    "case4(\"oozing\",\"Fluid that leaks out of blood vessels.\")"
   ]
  },
  {
   "cell_type": "code",
   "execution_count": 50,
   "id": "d61fe1ba",
   "metadata": {},
   "outputs": [
    {
     "data": {
      "text/plain": [
       "(['A regimen consisting of filgrastim that may be used in the prevention of febrile neutropenia; in the harvest of peripheral blood stem cells (PBSCs); and in the symptomatic management of neutropenic disorders.'],\n",
       " ['Neupogen'])"
      ]
     },
     "execution_count": 50,
     "metadata": {},
     "output_type": "execute_result"
    }
   ],
   "source": [
    "case4(\"Neupogen\",\"The condition of remaining in a place or position or of holding within.\")"
   ]
  },
  {
   "cell_type": "code",
   "execution_count": 51,
   "id": "f693eb26",
   "metadata": {},
   "outputs": [
    {
     "data": {
      "text/plain": [
       "(['The shortest and widest portion of the SMALL INTESTINE adjacent to the PYLORUS of the STOMACH. It is named for having the length equal to about the width of 12 fingers.'],\n",
       " ['duodenal bulb'])"
      ]
     },
     "execution_count": 51,
     "metadata": {},
     "output_type": "execute_result"
    }
   ],
   "source": [
    "case4(\"duodenal bulb\",\"The part of the duodenum closest to the stomach.\")"
   ]
  },
  {
   "cell_type": "code",
   "execution_count": 20,
   "id": "652ed359",
   "metadata": {},
   "outputs": [
    {
     "data": {
      "text/plain": [
       "(['Virt',\n",
       "  ' - ',\n",
       "  'The determination of the amount of Vitamin E present in a sample.'],\n",
       " ['Virt', ' - ', 'Vite'])"
      ]
     },
     "execution_count": 20,
     "metadata": {},
     "output_type": "execute_result"
    }
   ],
   "source": [
    "case4(\"Virt - Vite\",\"A mix of vitamins. It provides vitamin B-6\")"
   ]
  },
  {
   "cell_type": "code",
   "execution_count": 23,
   "id": "3cbb25a6",
   "metadata": {},
   "outputs": [
    {
     "data": {
      "text/plain": [
       "(['protonix'], ['protonix'])"
      ]
     },
     "execution_count": 23,
     "metadata": {},
     "output_type": "execute_result"
    }
   ],
   "source": [
    "case4(\"protonix\",\"A drug used to treat heartburn and ulcers. It lowers the amount of acid the stomach makes.\")"
   ]
  },
  {
   "cell_type": "code",
   "execution_count": null,
   "id": "7693ee4c",
   "metadata": {},
   "outputs": [],
   "source": []
  },
  {
   "cell_type": "code",
   "execution_count": 26,
   "id": "8c8d2fd9",
   "metadata": {},
   "outputs": [
    {
     "name": "stdout",
     "output_type": "stream",
     "text": [
      "lets use the above functions to create a case 3 and case 4 data\n"
     ]
    }
   ],
   "source": [
    "print(\"lets use the above functions to create a case 3 and case 4 data\")"
   ]
  },
  {
   "cell_type": "code",
   "execution_count": null,
   "id": "8708a28a",
   "metadata": {},
   "outputs": [],
   "source": []
  },
  {
   "cell_type": "code",
   "execution_count": 25,
   "id": "1b08ddda",
   "metadata": {},
   "outputs": [
    {
     "name": "stderr",
     "output_type": "stream",
     "text": [
      "/scratch/ials-gpu025/5323942/ipykernel_2031976/2456222905.py:1: DtypeWarning: Columns (0,3) have mixed types. Specify dtype option on import or set low_memory=False.\n",
      "  df = pd.read_csv('expert_data.tsv',delimiter = '\\t', on_bad_lines='skip')\n"
     ]
    },
    {
     "data": {
      "text/html": [
       "<div>\n",
       "<style scoped>\n",
       "    .dataframe tbody tr th:only-of-type {\n",
       "        vertical-align: middle;\n",
       "    }\n",
       "\n",
       "    .dataframe tbody tr th {\n",
       "        vertical-align: top;\n",
       "    }\n",
       "\n",
       "    .dataframe thead th {\n",
       "        text-align: right;\n",
       "    }\n",
       "</style>\n",
       "<table border=\"1\" class=\"dataframe\">\n",
       "  <thead>\n",
       "    <tr style=\"text-align: right;\">\n",
       "      <th></th>\n",
       "      <th>id</th>\n",
       "      <th>text_to_annotate</th>\n",
       "      <th>start</th>\n",
       "      <th>end</th>\n",
       "      <th>ann_text</th>\n",
       "      <th>definition</th>\n",
       "    </tr>\n",
       "  </thead>\n",
       "  <tbody>\n",
       "    <tr>\n",
       "      <th>0</th>\n",
       "      <td>98791999</td>\n",
       "      <td>Virt - Vite 2.5 - 25 - 1 MG Oral Tablet Vitami...</td>\n",
       "      <td>0.0</td>\n",
       "      <td>3</td>\n",
       "      <td>Virt - Vite</td>\n",
       "      <td>A mix of vitamins. It provides vitamin B-6, vi...</td>\n",
       "    </tr>\n",
       "    <tr>\n",
       "      <th>1</th>\n",
       "      <td>98791999</td>\n",
       "      <td>Virt - Vite 2.5 - 25 - 1 MG Oral Tablet Vitami...</td>\n",
       "      <td>7.0</td>\n",
       "      <td>8</td>\n",
       "      <td>1</td>\n",
       "      <td>{DO NOT DEFINE}</td>\n",
       "    </tr>\n",
       "    <tr>\n",
       "      <th>2</th>\n",
       "      <td>98791999</td>\n",
       "      <td>Virt - Vite 2.5 - 25 - 1 MG Oral Tablet Vitami...</td>\n",
       "      <td>8.0</td>\n",
       "      <td>9</td>\n",
       "      <td>MG</td>\n",
       "      <td>A tiny amount of something, usually a drug.</td>\n",
       "    </tr>\n",
       "    <tr>\n",
       "      <th>3</th>\n",
       "      <td>98791999</td>\n",
       "      <td>Virt - Vite 2.5 - 25 - 1 MG Oral Tablet Vitami...</td>\n",
       "      <td>9.0</td>\n",
       "      <td>10</td>\n",
       "      <td>Oral</td>\n",
       "      <td>Taken by mouth.</td>\n",
       "    </tr>\n",
       "    <tr>\n",
       "      <th>4</th>\n",
       "      <td>98791999</td>\n",
       "      <td>Virt - Vite 2.5 - 25 - 1 MG Oral Tablet Vitami...</td>\n",
       "      <td>10.0</td>\n",
       "      <td>11</td>\n",
       "      <td>Tablet</td>\n",
       "      <td>A pill.</td>\n",
       "    </tr>\n",
       "  </tbody>\n",
       "</table>\n",
       "</div>"
      ],
      "text/plain": [
       "         id                                   text_to_annotate  start end  \\\n",
       "0  98791999  Virt - Vite 2.5 - 25 - 1 MG Oral Tablet Vitami...    0.0   3   \n",
       "1  98791999  Virt - Vite 2.5 - 25 - 1 MG Oral Tablet Vitami...    7.0   8   \n",
       "2  98791999  Virt - Vite 2.5 - 25 - 1 MG Oral Tablet Vitami...    8.0   9   \n",
       "3  98791999  Virt - Vite 2.5 - 25 - 1 MG Oral Tablet Vitami...    9.0  10   \n",
       "4  98791999  Virt - Vite 2.5 - 25 - 1 MG Oral Tablet Vitami...   10.0  11   \n",
       "\n",
       "      ann_text                                         definition  \n",
       "0  Virt - Vite  A mix of vitamins. It provides vitamin B-6, vi...  \n",
       "1            1                                    {DO NOT DEFINE}  \n",
       "2          MG         A tiny amount of something, usually a drug.  \n",
       "3         Oral                                    Taken by mouth.  \n",
       "4       Tablet                                            A pill.  "
      ]
     },
     "execution_count": 25,
     "metadata": {},
     "output_type": "execute_result"
    }
   ],
   "source": [
    "df = pd.read_csv('expert_data.tsv',delimiter = '\\t', on_bad_lines='skip')\n",
    "\n",
    "df.head()"
   ]
  },
  {
   "cell_type": "code",
   "execution_count": 26,
   "id": "ec4d6639",
   "metadata": {},
   "outputs": [],
   "source": [
    "df[\"split_print\"] = \"\"\n",
    "df[\"UMLS+others\"] = \"\"\n",
    "df[\"UMLS\"] = \"\""
   ]
  },
  {
   "cell_type": "code",
   "execution_count": 27,
   "id": "e1b884ca",
   "metadata": {},
   "outputs": [],
   "source": [
    "# df[\"split_print\"],df[\"UMLS+others\"] = df.apply(lambda x : case4(x.ann_text,x.definition),axis = 1)"
   ]
  },
  {
   "cell_type": "code",
   "execution_count": 28,
   "id": "a8c1317c",
   "metadata": {},
   "outputs": [
    {
     "name": "stdout",
     "output_type": "stream",
     "text": [
      "nan\n",
      "def is\n",
      "nan\n",
      "nan\n",
      "def is\n",
      "An element in the blood. Too much or too little can cause major problems.\n",
      "nan\n",
      "def is\n",
      "nan\n",
      "nan\n",
      "def is\n",
      "An element in the blood. Too much or too little can cause major problems.\n",
      "Tissue that is thick and scarred, usually from an injury.\n",
      "def is\n",
      "nan\n",
      "\tTissue that is thick and scarred, usually from an injury.\n",
      "def is\n",
      "nan\n",
      "\tTissue that is thick and scarred, usually from an injury.\n",
      "def is\n",
      "nan\n",
      "\tTissue that is thick and scarred, usually from an injury.\n",
      "def is\n",
      "nan\n",
      "\tTissue that is thick and scarred, usually from an injury.\n",
      "def is\n",
      "nan\n",
      "\tTissue that is thick and scarred, usually from an injury.\n",
      "def is\n",
      "nan\n",
      "\tTissue that is thick and scarred, usually from an injury.\n",
      "def is\n",
      "nan\n",
      "nan\n",
      "def is\n",
      "nan\n",
      "nan\n",
      "def is\n",
      "nan\n",
      "\tMuscles that assist breathing.\n",
      "def is\n",
      "nan\n",
      "\tHaving to do with the thigh bone.\n",
      "def is\n",
      "nan\n",
      "nan\n",
      "def is\n",
      "An element in the blood. Too much or too little can cause major problems.\n",
      "nan\n",
      "def is\n",
      "nan\n",
      "nan\n",
      "def is\n",
      "nan\n"
     ]
    }
   ],
   "source": [
    "for i in range(len(df)):\n",
    "    try:\n",
    "        df.at[i,\"split_print\"],df.at[i,\"UMLS+others\"] = case4(df.iloc[i][\"ann_text\"],df.iloc[i][\"definition\"])\n",
    "    except:\n",
    "        print(df.iloc[i][\"ann_text\"])  \n",
    "        print(\"def is\")\n",
    "        print(df.iloc[i][\"definition\"])"
   ]
  },
  {
   "cell_type": "code",
   "execution_count": 29,
   "id": "339062a6",
   "metadata": {},
   "outputs": [],
   "source": [
    "df.to_csv(\"case4.csv\")"
   ]
  },
  {
   "cell_type": "code",
   "execution_count": 30,
   "id": "33c02657",
   "metadata": {},
   "outputs": [],
   "source": [
    "df.to_pickle(\"case4.pkl\")"
   ]
  },
  {
   "cell_type": "code",
   "execution_count": null,
   "id": "45fb1877",
   "metadata": {},
   "outputs": [],
   "source": []
  },
  {
   "cell_type": "code",
   "execution_count": null,
   "id": "1e73362e",
   "metadata": {},
   "outputs": [],
   "source": []
  },
  {
   "cell_type": "code",
   "execution_count": null,
   "id": "b5ea4cee",
   "metadata": {},
   "outputs": [],
   "source": []
  },
  {
   "cell_type": "code",
   "execution_count": null,
   "id": "b11876d4",
   "metadata": {},
   "outputs": [],
   "source": []
  },
  {
   "cell_type": "code",
   "execution_count": null,
   "id": "06f55014",
   "metadata": {},
   "outputs": [],
   "source": []
  },
  {
   "cell_type": "code",
   "execution_count": null,
   "id": "85e594c0",
   "metadata": {},
   "outputs": [],
   "source": []
  }
 ],
 "metadata": {
  "kernelspec": {
   "display_name": "Python 3 (ipykernel)",
   "language": "python",
   "name": "python3"
  },
  "language_info": {
   "codemirror_mode": {
    "name": "ipython",
    "version": 3
   },
   "file_extension": ".py",
   "mimetype": "text/x-python",
   "name": "python",
   "nbconvert_exporter": "python",
   "pygments_lexer": "ipython3",
   "version": "3.9.13"
  }
 },
 "nbformat": 4,
 "nbformat_minor": 5
}
